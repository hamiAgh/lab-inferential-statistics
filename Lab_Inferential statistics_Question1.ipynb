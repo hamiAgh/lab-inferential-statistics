{
 "cells": [
  {
   "cell_type": "markdown",
   "id": "4b13b766",
   "metadata": {},
   "source": [
    "It is assumed that the mean systolic blood pressure is **μ = 120 mm Hg**. In the Honolulu Heart Study, a sample of **n = 100 people** had an **average systolic blood pressure of 130.1 mm Hg** with a **standard deviation of 21.21 mm Hg**. Is the group significantly different (with respect to systolic blood pressure!) from the regular population?"
   ]
  },
  {
   "cell_type": "markdown",
   "id": "fb060d79",
   "metadata": {},
   "source": [
    "#### Set up the hypothesis test.\n",
    "#### Write down all the steps followed for setting up the test."
   ]
  },
  {
   "cell_type": "markdown",
   "id": "82083423",
   "metadata": {},
   "source": [
    "**H0:** mean systolic blood pressure=> μ = 120 mm Hg\n",
    "**H1:** mean systolic blood pressure > 120 mm Hg\n",
    "\n",
    "\n",
    "**Sample= 100**\n",
    "Sample's mean systolic blood pressure:130.1\n",
    "Sample's standard deviation: 21.21 mm Hg\n"
   ]
  },
  {
   "cell_type": "markdown",
   "id": "ac4288e0",
   "metadata": {},
   "source": [
    "#### Calculate the test statistic by hand and also code it in Python. It should be 4.76190. We will take a look at how to make decisions based on this calculated value."
   ]
  },
  {
   "cell_type": "code",
   "execution_count": 5,
   "id": "f83fa8cf",
   "metadata": {},
   "outputs": [
    {
     "data": {
      "text/plain": [
       "4.761904761904759"
      ]
     },
     "execution_count": 5,
     "metadata": {},
     "output_type": "execute_result"
    }
   ],
   "source": [
    "import math\n",
    "\n",
    "sample_mean = 130.1 \n",
    "pop_mean = 120\n",
    "sample_std = 21.21\n",
    "n = 100\n",
    "\n",
    "statistic = (sample_mean - pop_mean)/(sample_std/math.sqrt(n))\n",
    "statistic"
   ]
  },
  {
   "cell_type": "code",
   "execution_count": 6,
   "id": "7dd732b5",
   "metadata": {},
   "outputs": [
    {
     "data": {
      "text/plain": [
       "3.2813509086043083e-06"
      ]
     },
     "execution_count": 6,
     "metadata": {},
     "output_type": "execute_result"
    }
   ],
   "source": [
    "from scipy.stats import t\n",
    "\n",
    "p_value = t.sf(abs(statistic), n-1) \n",
    "p_value"
   ]
  },
  {
   "cell_type": "code",
   "execution_count": 9,
   "id": "b5bdc4d4",
   "metadata": {},
   "outputs": [
    {
     "data": {
      "text/plain": [
       "4.761904761904759"
      ]
     },
     "execution_count": 9,
     "metadata": {},
     "output_type": "execute_result"
    }
   ],
   "source": [
    "statistic = (sample_mean - pop_mean)/(sample_std/math.sqrt(n))\n",
    "statistic"
   ]
  },
  {
   "cell_type": "markdown",
   "id": "73faf093",
   "metadata": {},
   "source": [
    "P_values is lesss than 0,05, so the probabaility of H0 is less than 0,05 so we reject the Hypothesis that the mean systolic blood pressure is equal to 120 mm Hg."
   ]
  },
  {
   "cell_type": "code",
   "execution_count": 8,
   "id": "6ca23e93",
   "metadata": {},
   "outputs": [
    {
     "data": {
      "text/plain": [
       "1.6603911559963895"
      ]
     },
     "execution_count": 8,
     "metadata": {},
     "output_type": "execute_result"
    }
   ],
   "source": [
    "#Critical Value\n",
    "\n",
    "import scipy.stats\n",
    "\n",
    "df=99\n",
    "q= 1-0.05\n",
    "scipy.stats.t.ppf(q, df)"
   ]
  },
  {
   "cell_type": "markdown",
   "id": "04d5e4c3",
   "metadata": {},
   "source": [
    "\n",
    "\n",
    "Looking at the table, and using the code above we see the critical value for one-tailed alpha 0.05 and degree of freedon (dof) of 99 is 1.660.\n",
    "\n",
    "We have a right tailes test and statistics is much bigger than the critical value so again the H0 should get rejected.\n"
   ]
  },
  {
   "cell_type": "code",
   "execution_count": null,
   "id": "8516f51b",
   "metadata": {},
   "outputs": [],
   "source": []
  }
 ],
 "metadata": {
  "kernelspec": {
   "display_name": "Python 3 (ipykernel)",
   "language": "python",
   "name": "python3"
  },
  "language_info": {
   "codemirror_mode": {
    "name": "ipython",
    "version": 3
   },
   "file_extension": ".py",
   "mimetype": "text/x-python",
   "name": "python",
   "nbconvert_exporter": "python",
   "pygments_lexer": "ipython3",
   "version": "3.9.13"
  }
 },
 "nbformat": 4,
 "nbformat_minor": 5
}
